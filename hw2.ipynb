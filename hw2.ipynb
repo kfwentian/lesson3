{
 "cells": [
  {
   "cell_type": "markdown",
   "metadata": {},
   "source": [
    "# 任务1"
   ]
  },
  {
   "cell_type": "code",
   "execution_count": null,
   "metadata": {},
   "outputs": [],
   "source": [
    "# 获取总物资量和每个家庭所需物资量\n",
    "total_supplies = int(input(\"请输入总物资量（单位：箱）：\"))\n",
    "supplies_per_family = int(input(\"请输入每个家庭需要的物资量（单位：箱）：\"))\n",
    "\n",
    "# 计算可满足家庭数和剩余物资量\n",
    "families_satisfied = total_supplies // supplies_per_family\n",
    "remaining_supplies = total_supplies % supplies_per_family\n",
    "\n",
    "# 输出结果\n",
    "print(f\"总物资可以满足{families_satisfied}个家庭，每箱物资剩余{remaining_supplies}箱。\")"
   ]
  },
  {
   "cell_type": "markdown",
   "metadata": {},
   "source": [
    "# 任务2"
   ]
  },
  {
   "cell_type": "code",
   "execution_count": null,
   "metadata": {},
   "outputs": [],
   "source": [
    "# 每公里耗电量\n",
    "electricity_consumption_per_km = 0.2\n",
    "\n",
    "# 获取当前电量\n",
    "current_electricity = float(input(\"请输入当前电量（单位：度）：\"))\n",
    "\n",
    "# 计算可行驶里程\n",
    "total_mileage = current_electricity / electricity_consumption_per_km\n",
    "\n",
    "# 判断电量是否充足并输出结果\n",
    "if total_mileage > 0:\n",
    "    print(f\"当前电量可行驶{total_mileage:.0f}公里。\")\n",
    "else:\n",
    "    print(\"电量不足，请尽快充电！\")"
   ]
  },
  {
   "cell_type": "markdown",
   "metadata": {},
   "source": [
    "# 任务3"
   ]
  },
  {
   "cell_type": "code",
   "execution_count": null,
   "metadata": {},
   "outputs": [],
   "source": [
    "# 获取总账单金额和人数\n",
    "total_bill = float(input(\"请输入总账单金额（元）：\"))\n",
    "number_of_people = int(input(\"请输入人数：\"))\n",
    "\n",
    "# 计算每人需支付金额和剩余金额\n",
    "amount_per_person = total_bill / number_of_people\n",
    "remaining_amount = total_bill % number_of_people\n",
    "\n",
    "# 输出结果\n",
    "if remaining_amount == 0:\n",
    "    print(f\"每人需支付{amount_per_person:.2f}元。\")\n",
    "else:\n",
    "    print(f\"每人需支付{amount_per_person:.2f}元，剩余{remaining_amount:.2f}元将由最后一人承担。\")"
   ]
  },
  {
   "cell_type": "markdown",
   "metadata": {},
   "source": [
    "# 进阶练习"
   ]
  },
  {
   "cell_type": "code",
   "execution_count": null,
   "metadata": {},
   "outputs": [],
   "source": [
    "# 获取每日总能量需求、备用电池容量和日光照时间\n",
    "total_energy_needed = int(input(\"请输入每日总能量需求（单位：千瓦时）：\"))\n",
    "backup_battery = int(input(\"请输入备用电池容量（单位：千瓦时）：\"))\n",
    "sunlight_hours = int(input(\"请输入日光照时间（小时）：\"))\n",
    "\n",
    "# 计算太阳能发电量\n",
    "solar_power_generation = sunlight_hours * 10\n",
    "\n",
    "# 判断备用电池是否足够\n",
    "if backup_battery >= total_energy_needed:\n",
    "    print(\"备用电池足够，无需补充。\")\n",
    "else:\n",
    "    # 计算能量补充量\n",
    "    energy_supplement = total_energy_needed - backup_battery\n",
    "    # 判断补充量是否在风能和太阳能供电范围内\n",
    "    if energy_supplement <= solar_power_generation + 50:\n",
    "        print(f\"补充成功！风能和太阳能已提供{energy_supplement}千瓦时。\")\n",
    "    else:\n",
    "        print(\"能量不足，探测站需暂停运行。\")"
   ]
  }
 ],
 "metadata": {
  "kernelspec": {
   "display_name": "test",
   "language": "python",
   "name": "python3"
  },
  "language_info": {
   "name": "python",
   "version": "3.11.9"
  }
 },
 "nbformat": 4,
 "nbformat_minor": 2
}
