{
 "cells": [
  {
   "cell_type": "markdown",
   "metadata": {},
   "source": [
    "# 条件语句与循环结构\n",
    "在本课中，我们将学习以下内容：\n",
    "- 条件语句：`if`、`if-else`、`if-elif-else`、嵌套条件\n",
    "- 循环结构：`while` 和 `for` 循环\n",
    "- 循环控制语句：`break` 和 `continue`\n",
    "- 防范无限循环\n",
    "- 遍历字符串与列表\n"
   ]
  },
  {
   "cell_type": "markdown",
   "metadata": {},
   "source": [
    "## 1. 条件语句\n",
    "条件语句用于根据某些条件决定执行不同的代码块。"
   ]
  },
  {
   "cell_type": "markdown",
   "metadata": {},
   "source": [
    "### 1.1 `if` 语句\n",
    "`if` 语句是条件语句的基础形式。\n",
    "\n",
    "**语法：**\n",
    "```python\n",
    "if 条件:\n",
    "    执行的代码块\n",
    "```\n",
    "\n",
    "**示例：**"
   ]
  },
  {
   "cell_type": "code",
   "execution_count": null,
   "metadata": {},
   "outputs": [],
   "source": [
    "# 示例：简单的 if 语句\n",
    "temperature = 30\n",
    "if temperature > 25:\n",
    "    print(\"今天很热，请注意防晒！\")"
   ]
  },
  {
   "cell_type": "markdown",
   "metadata": {},
   "source": [
    "**练习 1：**\n",
    "提示用户输入一个数字，如果数字大于 100，输出“数字太大了”。"
   ]
  },
  {
   "cell_type": "markdown",
   "metadata": {},
   "source": [
    "### 1.2 `if-else` 语句\n",
    "当需要在条件为 `False` 时执行另一部分代码时，可以使用 `if-else` 语句。\n",
    "\n",
    "**语法：**\n",
    "```python\n",
    "if 条件:\n",
    "    执行的代码块1\n",
    "else:\n",
    "    执行的代码块2\n",
    "```\n",
    "\n",
    "**示例：**"
   ]
  },
  {
   "cell_type": "code",
   "execution_count": null,
   "metadata": {},
   "outputs": [],
   "source": [
    "# 示例：if-else 语句\n",
    "age = 16\n",
    "if age >= 18:\n",
    "    print(\"您已成年，可以参与选举。\")\n",
    "else:\n",
    "    print(\"您未成年，不能参与选举。\")"
   ]
  },
  {
   "cell_type": "markdown",
   "metadata": {},
   "source": [
    "**练习 2：**\n",
    "提示用户输入一个数字，判断该数字是正数还是负数。"
   ]
  },
  {
   "cell_type": "markdown",
   "metadata": {},
   "source": [
    "### 1.3 `if-elif-else` 语句\n",
    "当有多个条件需要判断时，可以使用 `if-elif-else` 语句。\n",
    "\n",
    "**语法：**\n",
    "```python\n",
    "if 条件1:\n",
    "    执行的代码块1\n",
    "elif 条件2:\n",
    "    执行的代码块2\n",
    "else:\n",
    "    执行的代码块3\n",
    "```\n",
    "\n",
    "**示例：**"
   ]
  },
  {
   "cell_type": "code",
   "execution_count": null,
   "metadata": {},
   "outputs": [],
   "source": [
    "# 示例：if-elif-else 语句\n",
    "score = 85\n",
    "if score >= 90:\n",
    "    print(\"优秀\")\n",
    "elif score >= 60:\n",
    "    print(\"及格\")\n",
    "else:\n",
    "    print(\"不及格\")"
   ]
  },
  {
   "cell_type": "markdown",
   "metadata": {},
   "source": [
    "**练习 3：**\n",
    "提示用户输入温度，根据温度输出以下内容：\n",
    "- 大于 30：输出“天气炎热。”\n",
    "- 15-30：输出“天气舒适。”\n",
    "- 小于 15：输出“天气寒冷。”"
   ]
  },
  {
   "cell_type": "markdown",
   "metadata": {},
   "source": [
    "### 1.4 嵌套条件语句\n",
    "条件语句可以嵌套在另一个条件语句中。\n",
    "\n",
    "**语法：**\n",
    "```python\n",
    "if 条件1:\n",
    "    if 条件2:\n",
    "        执行的代码块\n",
    "    else:\n",
    "        执行的代码块\n",
    "else:\n",
    "    执行的代码块\n",
    "```\n",
    "\n",
    "**示例：**"
   ]
  },
  {
   "cell_type": "code",
   "execution_count": null,
   "metadata": {},
   "outputs": [],
   "source": [
    "# 示例：嵌套条件语句\n",
    "age = 20\n",
    "if age >= 18:\n",
    "    if age >= 60:\n",
    "        print(\"您是老年人，可以领取养老金。\")\n",
    "    else:\n",
    "        print(\"您是成年人，可以参与劳动。\")\n",
    "else:\n",
    "    print(\"您是未成年人，需要监护。\")"
   ]
  },
  {
   "cell_type": "markdown",
   "metadata": {},
   "source": [
    "**练习 4：**\n",
    "编写一个程序，判断一个年份是否为闰年。\n",
    "提示：\n",
    "- 能被 4 整除但不能被 100 整除。\n",
    "- 或者能被 400 整除。"
   ]
  },
  {
   "cell_type": "markdown",
   "metadata": {},
   "source": [
    "## 2. 循环结构\n",
    "循环结构用于多次执行相同代码块。常见的循环有 `while` 和 `for`。"
   ]
  },
  {
   "cell_type": "markdown",
   "metadata": {},
   "source": [
    "### 2.1 `while` 循环\n",
    "`while` 循环用于在条件为 `True` 时重复执行代码块。\n",
    "\n",
    "**语法：**\n",
    "```python\n",
    "while 条件:\n",
    "    执行的代码块\n",
    "```\n",
    "\n",
    "**示例：**"
   ]
  },
  {
   "cell_type": "code",
   "execution_count": null,
   "metadata": {},
   "outputs": [],
   "source": [
    "# 示例：while 循环\n",
    "count = 0\n",
    "while count < 5:\n",
    "    print(\"当前计数：\", count)\n",
    "    count += 1"
   ]
  },
  {
   "cell_type": "markdown",
   "metadata": {},
   "source": [
    "**练习 5：**\n",
    "编写一个程序，输出 1 到 10 的所有整数。"
   ]
  },
  {
   "cell_type": "markdown",
   "metadata": {},
   "source": [
    "### 2.2 防范无限循环\n",
    "如果 `while` 的条件一直为 `True`，会导致无限循环。\n",
    "\n",
    "**示例：**\n",
    "```python\n",
    "while True:\n",
    "    print(\"这是一个无限循环！\")\n",
    "```\n",
    "\n",
    "**防范：**\n",
    "确保循环条件在某个时刻会变为 `False`。"
   ]
  },
  {
   "cell_type": "markdown",
   "metadata": {},
   "source": [
    "### 2.3 `for` 循环\n",
    "`for` 循环用于遍历序列（如列表、字符串）。\n",
    "\n",
    "**语法：**\n",
    "```python\n",
    "for 变量 in 序列:\n",
    "    执行的代码块\n",
    "```\n",
    "\n",
    "**示例：**"
   ]
  },
  {
   "cell_type": "code",
   "execution_count": null,
   "metadata": {},
   "outputs": [],
   "source": [
    "# 示例：for 循环\n",
    "for i in range(1, 6):\n",
    "    print(\"当前数字：\", i)"
   ]
  },
  {
   "cell_type": "markdown",
   "metadata": {},
   "source": [
    "**练习 6：**\n",
    "编写一个程序，输出一个列表中所有的元素。"
   ]
  },
  {
   "cell_type": "markdown",
   "metadata": {},
   "source": [
    "### 2.4 循环控制语句\n",
    "循环控制语句包括 `break` 和 `continue`。\n",
    "\n",
    "- `break`：立即退出循环。\n",
    "- `continue`：跳过当前迭代，继续下一次循环。\n",
    "\n",
    "**示例：**"
   ]
  },
  {
   "cell_type": "code",
   "execution_count": null,
   "metadata": {},
   "outputs": [],
   "source": [
    "# 示例：break 和 continue\n",
    "for i in range(1, 6):\n",
    "    if i == 3:\n",
    "        break  # 跳出循环\n",
    "    print(\"当前数字：\", i)\n",
    "\n",
    "for i in range(1, 6):\n",
    "    if i == 3:\n",
    "        continue  # 跳过当前迭代\n",
    "    print(\"当前数字：\", i)"
   ]
  },
  {
   "cell_type": "markdown",
   "metadata": {},
   "source": [
    "**练习 7：**\n",
    "编写一个程序，打印 1 到 10 之间的所有奇数。"
   ]
  },
  {
   "cell_type": "markdown",
   "metadata": {},
   "source": [
    "### 2.5 遍历字符串与列表\n",
    "`for` 循环可以用于遍历字符串和列表。\n",
    "\n",
    "**示例：**"
   ]
  },
  {
   "cell_type": "code",
   "execution_count": null,
   "metadata": {},
   "outputs": [],
   "source": [
    "# 示例：遍历字符串\n",
    "text = \"Python\"\n",
    "for char in text:\n",
    "    print(char)\n",
    "\n",
    "# 示例：遍历列表\n",
    "numbers = [1, 2, 3, 4, 5]\n",
    "for num in numbers:\n",
    "    print(num)"
   ]
  },
  {
   "cell_type": "markdown",
   "metadata": {},
   "source": [
    "**练习 8：**\n",
    "编写一个程序，统计字符串中每个字符的出现次数。"
   ]
  },
{
   "cell_type": "markdown",
   "metadata": {},
   "source": [
    "# 条件语句与循环结构\n",
    "在本课中，我们将学习以下内容：\n",
    "- 条件语句：`if`、`if-else`、`if-elif-else`、嵌套条件\n",
    "- 循环结构：`while` 和 `for` 循环\n",
    "- 循环控制语句：`break` 和 `continue`\n",
    "- 防范无限循环\n",
    "- 遍历字符串与列表\n",
    "- 使用 `range()` 生成序列\n",
    "- 嵌套循环"
   ]
  },
  {
   "cell_type": "markdown",
   "metadata": {},
   "source": [
    "## 3. 使用 `range()` 生成序列\n",
    "`range()` 是一个内置函数，用于生成一系列整数。它通常与 `for` 循环结合使用。\n",
    "\n",
    "**语法：**\n",
    "```python\n",
    "range(start, stop, step)\n",
    "```\n",
    "- `start`：序列的起始值，默认为 0。\n",
    "- `stop`：序列的终止值（不包括该值）。\n",
    "- `step`：步长，默认为 1。\n",
    "\n",
    "**示例：**"
   ]
  },
  {
   "cell_type": "code",
   "execution_count": null,
   "metadata": {},
   "outputs": [],
   "source": [
    "# 示例：使用 range() 生成序列\n",
    "for i in range(5):  # 从 0 到 4\n",
    "    print(i)\n",
    "\n",
    "for i in range(1, 10, 2):  # 从 1 到 9，步长为 2\n",
    "    print(i)"
   ]
  },
  {
   "cell_type": "markdown",
   "metadata": {},
   "source": [
    "**练习 9：**\n",
    "编写一个程序，输出从 1 到 100 的所有偶数。\n",
    "\n",
    "**扩展练习：**\n",
    "尝试生成一个从 10 到 1 的递减序列，并打印每个数字。"
   ]
  },
  {
   "cell_type": "markdown",
   "metadata": {},
   "source": [
    "## 4. 嵌套循环\n",
    "在一个循环中嵌套另一个循环称为嵌套循环。\n",
    "\n",
    "**语法：**\n",
    "```python\n",
    "for 外循环变量 in 外部序列:\n",
    "    for 内循环变量 in 内部序列:\n",
    "        执行的代码块\n",
    "```\n",
    "\n",
    "**应用场景：**\n",
    "- 打印二维表格。\n",
    "- 遍历多维数组。\n",
    "\n",
    "**示例：打印九九乘法表**"
   ]
  },
  {
   "cell_type": "code",
   "execution_count": null,
   "metadata": {},
   "outputs": [],
   "source": [
    "# 示例：九九乘法表\n",
    "for i in range(1, 10):\n",
    "    for j in range(1, i + 1):\n",
    "        print(f\"{i} x {j} = {i * j}\", end=\"\\t\")\n",
    "    print()  # 换行"
   ]
  },
  {
   "cell_type": "markdown",
   "metadata": {},
   "source": [
    "**练习 10：**\n",
    "编写一个程序，打印如下图案：\n",
    "```\n",
    "*\n",
    "**\n",
    "***\n",
    "****\n",
    "*****\n",
    "```\n",
    "\n",
    "**扩展练习：**\n",
    "打印一个大小为 `n` 的菱形图案（`n` 由用户输入）。"
   ]
  },
  {
   "cell_type": "markdown",
   "metadata": {},
   "source": [
    "## 5. 遍历字符串与列表\n",
    "`for` 循环可以用于遍历字符串或列表中的每个元素。\n",
    "\n",
    "**字符串示例：**"
   ]
  },
  {
   "cell_type": "code",
   "execution_count": null,
   "metadata": {},
   "outputs": [],
   "source": [
    "# 示例：遍历字符串\n",
    "text = \"Hello\"\n",
    "for char in text:\n",
    "    print(char)"
   ]
  },
  {
   "cell_type": "markdown",
   "metadata": {},
   "source": [
    "**列表示例：**"
   ]
  },
  {
   "cell_type": "code",
   "execution_count": null,
   "metadata": {},
   "outputs": [],
   "source": [
    "# 示例：遍历列表\n",
    "fruits = [\"apple\", \"banana\", \"cherry\"]\n",
    "for fruit in fruits:\n",
    "    print(fruit)"
   ]
  },
  {
   "cell_type": "markdown",
   "metadata": {},
   "source": [
    "**练习 11：**\n",
    "编写一个程序，统计字符串中每个字母的出现次数。\n",
    "\n",
    "**扩展练习：**\n",
    "编写一个程序，输入一个字符串，找出出现最多的字符及其次数。"
   ]
  },
  {
   "cell_type": "markdown",
   "metadata": {},
   "source": [
    "## 6. 复杂的条件与循环结合应用\n",
    "以下是一个条件语句与循环的综合示例："
   ]
  },
  {
   "cell_type": "code",
   "execution_count": null,
   "metadata": {},
   "outputs": [],
   "source": [
    "# 示例：猜数字游戏\n",
    "import random\n",
    "\n",
    "number_to_guess = random.randint(1, 100)\n",
    "attempts = 0\n",
    "\n",
    "print(\"欢迎来到猜数字游戏！数字范围是 1 到 100。\")\n",
    "while True:\n",
    "    guess = int(input(\"请输入你的猜测：\"))\n",
    "    attempts += 1\n",
    "    if guess < number_to_guess:\n",
    "        print(\"太小了！再试一次。\")\n",
    "    elif guess > number_to_guess:\n",
    "        print(\"太大了！再试一次。\")\n",
    "    else:\n",
    "        print(f\"恭喜你，猜对了！总共尝试了 {attempts} 次。\")\n",
    "        break"
   ]
  },
  {
   "cell_type": "markdown",
   "metadata": {},
   "source": [
    "**练习 12：**\n",
    "将猜数字游戏扩展为多人游戏，支持两人轮流猜测。"
   ]
  },{
   "cell_type": "markdown",
   "metadata": {},
   "source": [
    "# 条件语句与循环的高级应用\n",
    "在本课的拓展部分，我们将探索条件语句与循环结合的更多实际应用场景。\n",
    "- 复杂逻辑应用\n",
    "- 数据分析与处理\n",
    "- 实际案例：电子商务统计\n",
    "- 综合挑战题"
   ]
  },
  {
   "cell_type": "markdown",
   "metadata": {},
   "source": [
    "## 7. 复杂逻辑应用：数字分类器\n",
    "### 背景：\n",
    "在数据分析中，我们经常需要根据数据的特性将其分组或分类。\n",
    "\n",
    "### 任务：\n",
    "- 编写一个程序，接收一组由用户输入的数字（以空格分隔）。\n",
    "- 将输入的数字分为以下几类：\n",
    "  1. 正数\n",
    "  2. 负数\n",
    "  3. 零\n",
    "- 分别统计每一类的数量，并输出结果。\n",
    "\n",
    "**示例输入：**\n",
    "```plaintext\n",
    "请输入一组数字（以空格分隔）：5 -3 0 2 -8 0\n",
    "```\n",
    "**示例输出：**\n",
    "```plaintext\n",
    "正数：2 个\n",
    "负数：2 个\n",
    "零：2 个\n",
    "```\n",
    "**提示：**\n",
    "- 使用 `split()` 方法分割输入的字符串。\n",
    "- 使用循环和条件语句分类数字。\n",
    "- 使用计数器统计每一类的数量。"
   ]
  },
  {
   "cell_type": "code",
   "execution_count": null,
   "metadata": {},
   "outputs": [],
   "source": [
    "# 示例：数字分类器\n",
    "data = input(\"请输入一组数字（以空格分隔）：\")\n",
    "numbers = list(map(int, data.split()))\n",
    "\n",
    "positive_count = 0\n",
    "negative_count = 0\n",
    "zero_count = 0\n",
    "\n",
    "for num in numbers:\n",
    "    if num > 0:\n",
    "        positive_count += 1\n",
    "    elif num < 0:\n",
    "        negative_count += 1\n",
    "    else:\n",
    "        zero_count += 1\n",
    "\n",
    "print(f\"正数：{positive_count} 个\")\n",
    "print(f\"负数：{negative_count} 个\")\n",
    "print(f\"零：{zero_count} 个\")"
   ]
  },
  {
   "cell_type": "markdown",
   "metadata": {},
   "source": [
    "## 8. 数据分析与处理：求最大值、最小值与平均值\n",
    "### 背景：\n",
    "在日常数据处理中，我们需要计算数据的统计信息，如最大值、最小值和平均值。\n",
    "\n",
    "### 任务：\n",
    "- 用户输入一组数字（以空格分隔）。\n",
    "- 使用循环计算这些数字的：\n",
    "  1. 最大值\n",
    "  2. 最小值\n",
    "  3. 平均值（保留两位小数）\n",
    "\n",
    "**示例输入：**\n",
    "```plaintext\n",
    "请输入一组数字（以空格分隔）：5 8 -2 4 10\n",
    "```\n",
    "**示例输出：**\n",
    "```plaintext\n",
    "最大值：10\n",
    "最小值：-2\n",
    "平均值：5.00\n",
    "```\n",
    "**提示：**\n",
    "- 使用内置函数 `max()` 和 `min()`。\n",
    "- 使用循环或内置函数 `sum()` 计算总和。\n",
    "- 计算平均值时，注意避免整除的陷阱（将分子或分母转换为浮点数）。"
   ]
  },
  {
   "cell_type": "code",
   "execution_count": null,
   "metadata": {},
   "outputs": [],
   "source": [
    "# 示例：数据分析与处理\n",
    "data = input(\"请输入一组数字（以空格分隔）：\")\n",
    "numbers = list(map(int, data.split()))\n",
    "\n",
    "max_value = max(numbers)\n",
    "min_value = min(numbers)\n",
    "average = sum(numbers) / len(numbers)\n",
    "\n",
    "print(f\"最大值：{max_value}\")\n",
    "print(f\"最小值：{min_value}\")\n",
    "print(f\"平均值：{average:.2f}\")"
   ]
  },
  {
   "cell_type": "markdown",
   "metadata": {},
   "source": [
    "## 9. 实际案例：电子商务统计\n",
    "### 背景：\n",
    "某电子商务平台需要统计店铺每日的销售数据。\n",
    "\n",
    "### 任务：\n",
    "- 接收每天的销售额（用空格分隔，用户输入 7 天的数据）。\n",
    "- 计算：\n",
    "  1. 周总销售额。\n",
    "  2. 平均日销售额（保留两位小数）。\n",
    "  3. 找出销售额最高的一天及其金额。\n",
    "  4. 找出销售额最低的一天及其金额。\n",
    "\n",
    "**示例输入：**\n",
    "```plaintext\n",
    "请输入7天的销售额（以空格分隔）：200 400 150 600 300 250 500\n",
    "```\n",
    "**示例输出：**\n",
    "```plaintext\n",
    "周总销售额：2400 元\n",
    "平均日销售额：342.86 元\n",
    "最高销售额：600 元（第 4 天）\n",
    "最低销售额：150 元（第 3 天）\n",
    "```\n",
    "**提示：**\n",
    "- 使用列表的索引方法找出最高和最低销售额的对应天数。\n",
    "- 列表索引从 0 开始，注意调整为人类可读的天数（第几天）。"
   ]
  },
  {
   "cell_type": "code",
   "execution_count": null,
   "metadata": {},
   "outputs": [],
   "source": [
    "# 示例：电子商务统计\n",
    "sales = list(map(float, input(\"请输入7天的销售额（以空格分隔）：\").split()))\n",
    "\n",
    "total_sales = sum(sales)\n",
    "average_sales = total_sales / len(sales)\n",
    "max_sales = max(sales)\n",
    "min_sales = min(sales)\n",
    "max_day = sales.index(max_sales) + 1\n",
    "min_day = sales.index(min_sales) + 1\n",
    "\n",
    "print(f\"周总销售额：{total_sales} 元\")\n",
    "print(f\"平均日销售额：{average_sales:.2f} 元\")\n",
    "print(f\"最高销售额：{max_sales} 元（第 {max_day} 天）\")\n",
    "print(f\"最低销售额：{min_sales} 元（第 {min_day} 天）\")"
   ]
  },
  {
   "cell_type": "markdown",
   "metadata": {},
   "source": [
    "## 10. 综合挑战题：成绩单分析器\n",
    "### 背景：\n",
    "学校需要开发一款成绩单分析工具，帮助教师快速统计学生的成绩。\n",
    "\n",
    "### 任务：\n",
    "- 接收多名学生的成绩（每行代表一名学生的成绩，以空格分隔，直到输入空行为止）。\n",
    "- 输出：\n",
    "  1. 每名学生的总成绩和平均成绩（保留两位小数）。\n",
    "  2. 所有学生的最高分和最低分。\n",
    "  3. 所有学生的平均分（保留两位小数）。\n",
    "\n",
    "**示例输入：**\n",
    "```plaintext\n",
    "请输入学生成绩（每行一名学生，空行结束）：\n",
    "80 90 70\n",
    "85 75 95\n",
    "88 92 79\n",
    "\n",
    "```\n",
    "**示例输出：**\n",
    "```plaintext\n",
    "学生1：总成绩 240，平均成绩 80.00\n",
    "学生2：总成绩 255，平均成绩 85.00\n",
    "学生3：总成绩 259，平均成绩 86.33\n",
    "最高分：95\n",
    "最低分：70\n",
    "所有学生平均分：83.78\n",
    "```"
   ]
  }
 ],
 "metadata": {
  "kernelspec": {
   "display_name": "Python 3",
   "language": "python",
   "name": "python3"
  },
  "language_info": {
   "codemirror_mode": {
    "name": "ipython",
    "version": 3
   },
   "file_extension": ".py",
   "mimetype": "text/x-python",
   "name": "python",
   "nbconvert_exporter": "python",
   "pygments_lexer": "ipython3",
   "version": "3.8.5"
  }
 },
 "nbformat": 4,
 "nbformat_minor": 5
}
